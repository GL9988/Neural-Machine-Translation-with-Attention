{
  "nbformat": 4,
  "nbformat_minor": 0,
  "metadata": {
    "colab": {
      "provenance": []
    },
    "kernelspec": {
      "name": "python3",
      "display_name": "Python 3"
    },
    "language_info": {
      "name": "python"
    }
  },
  "cells": [
    {
      "cell_type": "code",
      "source": [
        "import pandas as pd\n",
        "from collections import defaultdict\n",
        "\n",
        "# Load the data from a .txt file\n",
        "file_path = \"fra_processed.txt\"\n",
        "delimiter = \"\\t\"\n",
        "\n",
        "# Read the file into a DataFrame\n",
        "data = pd.read_csv(file_path, delimiter=delimiter, header=None, names=[\"source\", \"translation\"])\n",
        "\n",
        "# Create a simple word-to-word mapping based on frequency\n",
        "def create_baseline_dict(data):\n",
        "    word_map = defaultdict(lambda: defaultdict(int))\n",
        "\n",
        "    # Count occurrences of word mappings\n",
        "    for _, row in data.iterrows():\n",
        "        source_words = row[\"source\"].split()\n",
        "        target_words = row[\"translation\"].split()\n",
        "        for source, target in zip(source_words, target_words):\n",
        "            word_map[source][target] += 1\n",
        "\n",
        "    # Create a dictionary mapping source words to the most frequent target word\n",
        "    translation_dict = {source: max(targets, key=targets.get) for source, targets in word_map.items()}\n",
        "    return translation_dict\n",
        "\n",
        "# Translate a sentence using the baseline dictionary\n",
        "def translate_sentence(sentence, translation_dict):\n",
        "    words = sentence.split()\n",
        "    translated = [translation_dict.get(word, word) for word in words]  # Default to word itself if not in dict\n",
        "    return \" \".join(translated)"
      ],
      "metadata": {
        "id": "FkzpfQswmsOh"
      },
      "execution_count": 1,
      "outputs": []
    },
    {
      "cell_type": "code",
      "source": [
        "# Main code\n",
        "translation_dict = create_baseline_dict(data)"
      ],
      "metadata": {
        "id": "hv4Qe-kD9yuC"
      },
      "execution_count": 2,
      "outputs": []
    },
    {
      "cell_type": "code",
      "source": [
        "# Example: Translate a line from the source language\n",
        "example_line = \"this is an example line\"\n",
        "translated_line = translate_sentence(example_line, translation_dict)\n",
        "\n",
        "print(f\"Original: {example_line}\")\n",
        "print(f\"Translated: {translated_line}\")"
      ],
      "metadata": {
        "colab": {
          "base_uri": "https://localhost:8080/"
        },
        "id": "ODE2O83M9wIZ",
        "outputId": "179706e2-3e61-47da-a817-bd815e0bc0aa"
      },
      "execution_count": 3,
      "outputs": [
        {
          "output_type": "stream",
          "name": "stdout",
          "text": [
            "Original: this is an example line\n",
            "Translated: ce est un example ligne\n"
          ]
        }
      ]
    }
  ]
}