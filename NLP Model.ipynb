{
  "nbformat": 4,
  "nbformat_minor": 0,
  "metadata": {
    "colab": {
      "provenance": []
    },
    "kernelspec": {
      "name": "python3",
      "display_name": "Python 3"
    },
    "language_info": {
      "name": "python"
    }
  },
  "cells": [
    {
      "cell_type": "code",
      "execution_count": null,
      "metadata": {
        "id": "k28jf51re-i1"
      },
      "outputs": [],
      "source": [
        "from __future__ import unicode_literals, print_function, division\n",
        "from io import open\n",
        "import unicodedata\n",
        "import re\n",
        "import random\n",
        "\n",
        "import torch\n",
        "import torch.nn as nn\n",
        "from torch import optim\n",
        "import torch.nn.functional as F\n",
        "\n",
        "import numpy as np\n",
        "from torch.utils.data import TensorDataset, DataLoader, RandomSampler\n",
        "\n",
        "device = torch.device(\"cuda\" if torch.cuda.is_available() else \"cpu\")"
      ]
    },
    {
      "cell_type": "markdown",
      "source": [
        "# **DATA PREPARATION**"
      ],
      "metadata": {
        "id": "9H2KZDsIrt86"
      }
    },
    {
      "cell_type": "markdown",
      "source": [
        "Handling Missing Values\n"
      ],
      "metadata": {
        "id": "vwBmmHmFr9LG"
      }
    },
    {
      "cell_type": "code",
      "source": [
        "input_file = \"fra.txt\"\n",
        "output_file = \"fra_processed.txt\"\n",
        "\n",
        "with open(input_file, \"r\", encoding=\"utf-8\") as infile, open(output_file, \"w\", encoding=\"utf-8\") as outfile:\n",
        "    for line in infile:\n",
        "        columns = line.split(\"\\t\")\n",
        "\n",
        "        if len(columns) >= 2:\n",
        "            outfile.write(f\"{columns[0]}\\t{columns[1]}\\n\")\n",
        "\n",
        "print(f\"File Saved\")"
      ],
      "metadata": {
        "colab": {
          "base_uri": "https://localhost:8080/"
        },
        "id": "stWNjpYLfCne",
        "outputId": "c2fb7adf-ea29-445f-e549-4b4d246905c6"
      },
      "execution_count": null,
      "outputs": [
        {
          "output_type": "stream",
          "name": "stdout",
          "text": [
            "File Saved\n"
          ]
        }
      ]
    },
    {
      "cell_type": "markdown",
      "source": [
        "Vocabulary Construction"
      ],
      "metadata": {
        "id": "lkVnptBisXEq"
      }
    },
    {
      "cell_type": "code",
      "source": [
        "START_TOKEN = 0\n",
        "END_TOKEN = 1\n",
        "\n",
        "class Language:\n",
        "    def __init__(self, language_name):\n",
        "        self.language_name = language_name\n",
        "        self.token2index = {}\n",
        "        self.token2count = {}\n",
        "        self.index2token = {0: \"START\", 1: \"END\"}\n",
        "        self.total_tokens = 2  # Count START and END\n",
        "\n",
        "    def addText(self, text):\n",
        "        for word in text.split(' '):\n",
        "            self.addToken(word)\n",
        "\n",
        "    def addToken(self, token):\n",
        "        if token not in self.token2index:\n",
        "            self.token2index[token] = self.total_tokens\n",
        "            self.token2count[token] = 1\n",
        "            self.index2token[self.total_tokens] = token\n",
        "            self.total_tokens += 1\n",
        "        else:\n",
        "            self.token2count[token] += 1"
      ],
      "metadata": {
        "id": "PJ17UNQofcfF"
      },
      "execution_count": null,
      "outputs": []
    },
    {
      "cell_type": "markdown",
      "source": [
        "Text Cleaning and Normalization"
      ],
      "metadata": {
        "id": "036_57mKtQN-"
      }
    },
    {
      "cell_type": "code",
      "source": [
        "def convertToAscii(input_str):\n",
        "    return ''.join(\n",
        "        character for character in unicodedata.normalize('NFD', input_str)\n",
        "        if unicodedata.category(character) != 'Mn'\n",
        "    )\n",
        "\n",
        "# Convert to lowercase, trim, and remove non-alphabetical characters\n",
        "def cleanString(input_str):\n",
        "    input_str = convertToAscii(input_str.lower().strip())\n",
        "    input_str = re.sub(r\"([.!?])\", r\" \\1\", input_str)\n",
        "    input_str = re.sub(r\"[^a-zA-Z!?]+\", r\" \", input_str)\n",
        "    return input_str.strip()"
      ],
      "metadata": {
        "id": "6DBp0XBXfciI"
      },
      "execution_count": null,
      "outputs": []
    },
    {
      "cell_type": "markdown",
      "source": [
        "Loading and Preparing Language Data"
      ],
      "metadata": {
        "id": "R42SVqXHtnam"
      }
    },
    {
      "cell_type": "code",
      "source": [
        "def loadLanguages(language1, language2, reverse=False):\n",
        "\n",
        "    # Read the file and split into lines\n",
        "    lines = open('fra_processed.txt', encoding='utf-8').\\\n",
        "        read().strip().split('\\n')\n",
        "\n",
        "    # Split each line into pairs and normalize\n",
        "    sentence_pairs = [[cleanString(sentence) for sentence in line.split('\\t')] for line in lines]\n",
        "\n",
        "    # Reverse pairs, create Language instances\n",
        "    if reverse:\n",
        "        sentence_pairs = [list(reversed(pair)) for pair in sentence_pairs]\n",
        "        source_language = Language(language2)\n",
        "        target_language = Language(language1)\n",
        "    else:\n",
        "        source_language = Language(language1)\n",
        "        target_language = Language(language2)\n",
        "\n",
        "    return source_language, target_language, sentence_pairs"
      ],
      "metadata": {
        "id": "twVCQT6vfl9y"
      },
      "execution_count": null,
      "outputs": []
    },
    {
      "cell_type": "markdown",
      "source": [
        "Filtering Sentence Pairs"
      ],
      "metadata": {
        "id": "cusAkv2mt5KF"
      }
    },
    {
      "cell_type": "code",
      "source": [
        "MAX_TOKENS = 10\n",
        "\n",
        "english_prefixes = (\n",
        "    \"i am \", \"i m \",\n",
        "    \"he is\", \"he s \",\n",
        "    \"she is\", \"she s \",\n",
        "    \"you are\", \"you re \",\n",
        "    \"we are\", \"we re \",\n",
        "    \"they are\", \"they re \"\n",
        ")\n",
        "\n",
        "def validatePair(pair):\n",
        "    return len(pair[0].split(' ')) < MAX_TOKENS and \\\n",
        "        len(pair[1].split(' ')) < MAX_TOKENS and \\\n",
        "        pair[1].startswith(english_prefixes)\n",
        "\n",
        "\n",
        "def validatePairs(pair_list):\n",
        "    return [pair for pair in pair_list if validatePair(pair)]"
      ],
      "metadata": {
        "id": "ACKs3BIIfmAl"
      },
      "execution_count": null,
      "outputs": []
    },
    {
      "cell_type": "markdown",
      "source": [
        "Processing and Preparing Data"
      ],
      "metadata": {
        "id": "PovqMls6uLJ2"
      }
    },
    {
      "cell_type": "code",
      "source": [
        "def processData(source_lang, target_lang, reverse=False):\n",
        "    source_language, target_language, sentence_pairs = loadLanguages(source_lang, target_lang, reverse)\n",
        "    sentence_pairs = validatePairs(sentence_pairs)\n",
        "    for pair in sentence_pairs:\n",
        "        source_language.addText(pair[0])\n",
        "        target_language.addText(pair[1])\n",
        "    return source_language, target_language, sentence_pairs\n",
        "\n",
        "source_language, target_language, sentence_pairs = processData('eng', 'fra', True)"
      ],
      "metadata": {
        "id": "9Bk37oltiA5z"
      },
      "execution_count": null,
      "outputs": []
    },
    {
      "cell_type": "markdown",
      "source": [
        "# **MODELING**"
      ],
      "metadata": {
        "id": "x7rAI-8fxLep"
      }
    },
    {
      "cell_type": "markdown",
      "source": [
        "Recurrent Neural Network Encoder for Sequence Embedding"
      ],
      "metadata": {
        "id": "MD_PTKaMxMLr"
      }
    },
    {
      "cell_type": "code",
      "source": [
        "class RNN_Encoder(nn.Module):\n",
        "    def __init__(self, vocab_size, hidden_units, dropout_rate=0.1):\n",
        "        super(RNN_Encoder, self).__init__()\n",
        "        self.hidden_units = hidden_units\n",
        "\n",
        "        self.embedding_layer = nn.Embedding(vocab_size, hidden_units)\n",
        "        self.gru_layer = nn.GRU(hidden_units, hidden_units, batch_first=True)\n",
        "        self.dropout_layer = nn.Dropout(dropout_rate)\n",
        "\n",
        "    def forward(self, input_tensor):\n",
        "        embedded_tensor = self.dropout_layer(self.embedding_layer(input_tensor))\n",
        "        gru_output, gru_hidden = self.gru_layer(embedded_tensor)\n",
        "        return gru_output, gru_hidden"
      ],
      "metadata": {
        "id": "eC1JdYlRfmDL"
      },
      "execution_count": null,
      "outputs": []
    },
    {
      "cell_type": "markdown",
      "source": [
        "RNN Decoder for Sequence Generation with Teacher Forcing"
      ],
      "metadata": {
        "id": "Hs_Yuob1xiMB"
      }
    },
    {
      "cell_type": "code",
      "source": [
        "class RNN_Decoder(nn.Module):\n",
        "    def __init__(self, hidden_units, output_units):\n",
        "        super(RNN_Decoder, self).__init__()\n",
        "        self.embedding_layer = nn.Embedding(output_units, hidden_units)\n",
        "        self.gru_layer = nn.GRU(hidden_units, hidden_units, batch_first=True)\n",
        "        self.output_layer = nn.Linear(hidden_units, output_units)\n",
        "\n",
        "    def forward(self, encoder_outputs, encoder_hidden, target_tensor=None):\n",
        "        batch_size = encoder_outputs.size(0)\n",
        "        decoder_input = torch.empty(batch_size, 1, dtype=torch.long, device=device).fill_(START_TOKEN)\n",
        "        decoder_hidden = encoder_hidden\n",
        "        decoder_outputs = []\n",
        "\n",
        "        for i in range(MAX_TOKENS):\n",
        "            decoder_output, decoder_hidden = self._forward_step(decoder_input, decoder_hidden)\n",
        "            decoder_outputs.append(decoder_output)\n",
        "\n",
        "            if target_tensor is not None:\n",
        "                # Teacher forcing: Feed the target as the next input\n",
        "                decoder_input = target_tensor[:, i].unsqueeze(1)\n",
        "            else:\n",
        "                # Without teacher forcing: use its own predictions as the next input\n",
        "                _, topi = decoder_output.topk(1)\n",
        "                decoder_input = topi.squeeze(-1).detach()  # detach from history as input\n",
        "\n",
        "        decoder_outputs = torch.cat(decoder_outputs, dim=1)\n",
        "        decoder_outputs = F.log_softmax(decoder_outputs, dim=-1)\n",
        "        return decoder_outputs, decoder_hidden, None  # Return `None` for consistency in the training loop\n",
        "\n",
        "    def _forward_step(self, input_tensor, hidden):\n",
        "        output = self.embedding_layer(input_tensor)\n",
        "        output = F.relu(output)\n",
        "        output, hidden = self.gru_layer(output, hidden)\n",
        "        output = self.output_layer(output)\n",
        "        return output, hidden"
      ],
      "metadata": {
        "id": "ANbxPO14fmGD"
      },
      "execution_count": null,
      "outputs": []
    },
    {
      "cell_type": "markdown",
      "source": [
        "Attention Mechanism for Context Vector Calculation"
      ],
      "metadata": {
        "id": "y93qYum3xoCu"
      }
    },
    {
      "cell_type": "code",
      "source": [
        "class AttentionMechanism(nn.Module):\n",
        "    def __init__(self, units_size):\n",
        "        super(AttentionMechanism, self).__init__()\n",
        "        self.linear_W = nn.Linear(units_size, units_size)\n",
        "        self.linear_U = nn.Linear(units_size, units_size)\n",
        "        self.linear_V = nn.Linear(units_size, 1)\n",
        "\n",
        "    def forward(self, query, keys):\n",
        "        attention_scores = self.linear_V(torch.tanh(self.linear_W(query) + self.linear_U(keys)))\n",
        "        attention_scores = attention_scores.squeeze(2).unsqueeze(1)\n",
        "\n",
        "        attention_weights = F.softmax(attention_scores, dim=-1)\n",
        "        context_vector = torch.bmm(attention_weights, keys)\n",
        "\n",
        "        return context_vector, attention_weights"
      ],
      "metadata": {
        "id": "FR8jKyBPk2DG"
      },
      "execution_count": null,
      "outputs": []
    },
    {
      "cell_type": "markdown",
      "source": [
        "Attention-Enhanced RNN Decoder with Teacher Forcing\n"
      ],
      "metadata": {
        "id": "mfGvop4nxu4P"
      }
    },
    {
      "cell_type": "code",
      "source": [
        "class AttentionDecoderRNN(nn.Module):\n",
        "    def __init__(self, units_size, output_units, dropout_rate=0.1):\n",
        "        super(AttentionDecoderRNN, self).__init__()\n",
        "        self.embedding_layer = nn.Embedding(output_units, units_size)\n",
        "        self.attention_mechanism = AttentionMechanism(units_size)\n",
        "        self.gru_layer = nn.GRU(2 * units_size, units_size, batch_first=True)\n",
        "        self.output_layer = nn.Linear(units_size, output_units)\n",
        "        self.dropout_layer = nn.Dropout(dropout_rate)\n",
        "\n",
        "    def forward(self, encoder_outputs, encoder_hidden, target_tensor=None):\n",
        "        batch_size = encoder_outputs.size(0)\n",
        "        decoder_input = torch.empty(batch_size, 1, dtype=torch.long, device=device).fill_(START_TOKEN)\n",
        "        decoder_hidden = encoder_hidden\n",
        "        decoder_outputs = []\n",
        "        attention_weights = []\n",
        "\n",
        "        for i in range(MAX_TOKENS):\n",
        "            decoder_output, decoder_hidden, attn_weights = self._forward_step(\n",
        "                decoder_input, decoder_hidden, encoder_outputs\n",
        "            )\n",
        "            decoder_outputs.append(decoder_output)\n",
        "            attention_weights.append(attn_weights)\n",
        "\n",
        "            if target_tensor is not None:\n",
        "                # Teacher forcing: Feed the target as the next input\n",
        "                decoder_input = target_tensor[:, i].unsqueeze(1)\n",
        "            else:\n",
        "                # Without teacher forcing: use its own predictions as the next input\n",
        "                _, topi = decoder_output.topk(1)\n",
        "                decoder_input = topi.squeeze(-1).detach()  # detach from history as input\n",
        "\n",
        "        decoder_outputs = torch.cat(decoder_outputs, dim=1)\n",
        "        decoder_outputs = F.log_softmax(decoder_outputs, dim=-1)\n",
        "        attention_weights = torch.cat(attention_weights, dim=1)\n",
        "\n",
        "        return decoder_outputs, decoder_hidden, attention_weights\n",
        "\n",
        "    def _forward_step(self, input_tensor, hidden, encoder_outputs):\n",
        "        embedded_tensor = self.dropout_layer(self.embedding_layer(input_tensor))\n",
        "\n",
        "        query = hidden.permute(1, 0, 2)\n",
        "        context_vector, attn_weights = self.attention_mechanism(query, encoder_outputs)\n",
        "        gru_input = torch.cat((embedded_tensor, context_vector), dim=2)\n",
        "\n",
        "        output, hidden = self.gru_layer(gru_input, hidden)\n",
        "        output = self.output_layer(output)\n",
        "\n",
        "        return output, hidden, attn_weights"
      ],
      "metadata": {
        "id": "0lX8KzFuk3I6"
      },
      "execution_count": null,
      "outputs": []
    },
    {
      "cell_type": "markdown",
      "source": [
        "Text-to-Tensor Conversion and DataLoader Preparation for Sequence Pairs"
      ],
      "metadata": {
        "id": "Ue9iB3XGx4ms"
      }
    },
    {
      "cell_type": "code",
      "source": [
        "def getTokenIndexes(language, sentence):\n",
        "    return [language.token2index[token] for token in sentence.split(' ')]\n",
        "\n",
        "def tensorFromText(language, sentence):\n",
        "    token_indexes = getTokenIndexes(language, sentence)\n",
        "    token_indexes.append(END_TOKEN)\n",
        "    return torch.tensor(token_indexes, dtype=torch.long, device=device).view(1, -1)\n",
        "\n",
        "def tensorsFromSentencePair(sentence_pair):\n",
        "    input_tensor = tensorFromText(source_language, sentence_pair[0])\n",
        "    target_tensor = tensorFromText(target_language, sentence_pair[1])\n",
        "    return (input_tensor, target_tensor)\n",
        "\n",
        "def createDataLoader(batch_size):\n",
        "    source_language, target_language, sentence_pairs = processData('eng', 'fra', True)\n",
        "\n",
        "    n = len(sentence_pairs)\n",
        "    input_ids = np.zeros((n, MAX_TOKENS), dtype=np.int32)\n",
        "    target_ids = np.zeros((n, MAX_TOKENS), dtype=np.int32)\n",
        "\n",
        "    for idx, (source, target) in enumerate(sentence_pairs):\n",
        "        source_ids = getTokenIndexes(source_language, source)\n",
        "        target_ids_list = getTokenIndexes(target_language, target)\n",
        "        source_ids.append(END_TOKEN)\n",
        "        target_ids_list.append(END_TOKEN)\n",
        "        input_ids[idx, :len(source_ids)] = source_ids\n",
        "        target_ids[idx, :len(target_ids_list)] = target_ids_list\n",
        "\n",
        "    dataset = TensorDataset(torch.LongTensor(input_ids).to(device),\n",
        "                            torch.LongTensor(target_ids).to(device))\n",
        "\n",
        "    data_sampler = RandomSampler(dataset)\n",
        "    data_loader = DataLoader(dataset, sampler=data_sampler, batch_size=batch_size)\n",
        "    return source_language, target_language, data_loader"
      ],
      "metadata": {
        "id": "OWOvlSSGfcnm"
      },
      "execution_count": null,
      "outputs": []
    },
    {
      "cell_type": "markdown",
      "source": [
        "# **TRAINING**"
      ],
      "metadata": {
        "id": "IOYNpnzgyEqw"
      }
    },
    {
      "cell_type": "markdown",
      "source": [
        "Simple Early Stopping Mechanism for Training Optimization"
      ],
      "metadata": {
        "id": "V-E0ggRFyEnr"
      }
    },
    {
      "cell_type": "code",
      "source": [
        "import numpy as np\n",
        "\n",
        "class SimpleEarlyStopping:\n",
        "    def __init__(self, patience=3):\n",
        "        self.patience = patience\n",
        "        self.best_loss = float('inf')  # Initialize with a large value\n",
        "        self.epochs_without_improvement = 0\n",
        "        self.stop_training = False\n",
        "\n",
        "    def check(self, val_loss):\n",
        "        if val_loss < self.best_loss:\n",
        "            self.best_loss = val_loss\n",
        "            self.epochs_without_improvement = 0  # Reset counter\n",
        "        else:\n",
        "            self.epochs_without_improvement += 1\n",
        "\n",
        "        if self.epochs_without_improvement >= self.patience:\n",
        "            self.stop_training = True\n",
        "\n",
        "        return self.stop_training"
      ],
      "metadata": {
        "id": "lyCD2U9cgYtp"
      },
      "execution_count": null,
      "outputs": []
    },
    {
      "cell_type": "markdown",
      "source": [
        "Training Epoch with Early Stopping for Sequence-to-Sequence Models"
      ],
      "metadata": {
        "id": "RxSL2AgryL7G"
      }
    },
    {
      "cell_type": "code",
      "source": [
        "def trainForEpochWithSimpleEarlyStopping(data_loader, encoder_model, decoder_model, encoder_optimizer,\n",
        "          decoder_optimizer, loss_criterion, early_stopping):\n",
        "\n",
        "    total_epoch_loss = 0\n",
        "    for batch_data in data_loader:\n",
        "        input_tensor, target_tensor = batch_data\n",
        "\n",
        "        encoder_optimizer.zero_grad()\n",
        "        decoder_optimizer.zero_grad()\n",
        "\n",
        "        encoder_outputs, encoder_hidden = encoder_model(input_tensor)\n",
        "        decoder_outputs, _, _ = decoder_model(encoder_outputs, encoder_hidden, target_tensor)\n",
        "\n",
        "        loss = loss_criterion(\n",
        "            decoder_outputs.view(-1, decoder_outputs.size(-1)),\n",
        "            target_tensor.view(-1)\n",
        "        )\n",
        "        loss.backward()\n",
        "\n",
        "        encoder_optimizer.step()\n",
        "        decoder_optimizer.step()\n",
        "\n",
        "        total_epoch_loss += loss.item()\n",
        "\n",
        "    # Simple validation loss check\n",
        "    val_loss = total_epoch_loss / len(data_loader)\n",
        "    if early_stopping.check(val_loss):\n",
        "        print(\"Early stopping triggered.\")\n",
        "        return total_epoch_loss / len(data_loader), True\n",
        "\n",
        "    return total_epoch_loss / len(data_loader), False"
      ],
      "metadata": {
        "id": "gkLCqvFegYw-"
      },
      "execution_count": null,
      "outputs": []
    },
    {
      "cell_type": "markdown",
      "source": [
        "Time Estimation for Training Progress"
      ],
      "metadata": {
        "id": "Zxt833dvySJV"
      }
    },
    {
      "cell_type": "code",
      "source": [
        "import time\n",
        "import math\n",
        "\n",
        "def convertToMinutes(seconds):\n",
        "    minutes = math.floor(seconds / 60)\n",
        "    seconds -= minutes * 60\n",
        "    return '%dm %ds' % (minutes, seconds)\n",
        "\n",
        "def elapsedTime(since, progress):\n",
        "    current_time = time.time()\n",
        "    elapsed_seconds = current_time - since\n",
        "    estimated_seconds = elapsed_seconds / (progress)\n",
        "    remaining_seconds = estimated_seconds - elapsed_seconds\n",
        "    return '%s (- %s)' % (convertToMinutes(elapsed_seconds), convertToMinutes(remaining_seconds))"
      ],
      "metadata": {
        "id": "6Z5RaS5HgYzC"
      },
      "execution_count": null,
      "outputs": []
    },
    {
      "cell_type": "markdown",
      "source": [
        "Visualization of Loss and Performance Metrics Over Training Epochs"
      ],
      "metadata": {
        "id": "-rWhvmjYyZqU"
      }
    },
    {
      "cell_type": "code",
      "source": [
        "import matplotlib.pyplot as plt\n",
        "\n",
        "def plotLossGraph(loss_points, performance_metrics=None, save_location=None):\n",
        "    plt.close('all')  # Close any existing figures\n",
        "    plt.figure(figsize=(12, 6))\n",
        "    fig, axs = plt.subplots(1, 2, figsize=(15, 5))\n",
        "\n",
        "    # Plot Loss Curve\n",
        "    axs[0].plot(loss_points, label='Training Loss')\n",
        "    axs[0].set_title(\"Training Loss Over Epochs\")\n",
        "    axs[0].set_xlabel(\"Epoch\")\n",
        "    axs[0].set_ylabel(\"Loss\")\n",
        "    axs[0].legend()\n",
        "\n",
        "\n",
        "    if save_location:\n",
        "        plt.savefig(save_location)\n",
        "        print(f\"Plot saved to {save_location}\")\n",
        "    else:\n",
        "        plt.show()  # Ensure this renders the plot"
      ],
      "metadata": {
        "id": "Q868TTWogY1Y"
      },
      "execution_count": null,
      "outputs": []
    },
    {
      "cell_type": "markdown",
      "source": [
        "Model Training with Early Stopping and Translation Evaluation"
      ],
      "metadata": {
        "id": "dhUjXjLZyha7"
      }
    },
    {
      "cell_type": "code",
      "source": [
        "def trainModelWithSimpleEarlyStopping(data_loader, encoder_model, decoder_model, epochs, lr=0.001,\n",
        "               display_every=100, visualize_every=100, patience=3, test_sentences=[]):\n",
        "\n",
        "    start_time = time.time()\n",
        "    loss_plot = []\n",
        "    total_print_loss = 0  # Reset every display_every\n",
        "    total_plot_loss = 0  # Reset every visualize_every\n",
        "\n",
        "    encoder_optimizer = optim.Adam(encoder_model.parameters(), lr=lr)\n",
        "    decoder_optimizer = optim.Adam(decoder_model.parameters(), lr=lr)\n",
        "    loss_function = nn.NLLLoss()\n",
        "\n",
        "    # Early stopping setup\n",
        "    early_stopping = SimpleEarlyStopping(patience=patience)\n",
        "\n",
        "    for epoch in range(1, epochs + 1):\n",
        "        epoch_loss, stop_training = trainForEpochWithSimpleEarlyStopping(data_loader, encoder_model, decoder_model, encoder_optimizer, decoder_optimizer, loss_function, early_stopping)\n",
        "        total_print_loss += epoch_loss\n",
        "        total_plot_loss += epoch_loss\n",
        "\n",
        "        if stop_training:\n",
        "            print(f\"Training stopped early at epoch {epoch}.\")\n",
        "            break\n",
        "\n",
        "        if epoch % display_every == 0:\n",
        "            avg_print_loss = total_print_loss / display_every\n",
        "            total_print_loss = 0\n",
        "            print('%s (%d %d%%) %.4f' % (elapsedTime(start_time, epoch / epochs),\n",
        "                                        epoch, epoch / epochs * 100, avg_print_loss))\n",
        "\n",
        "        if epoch % visualize_every == 0:\n",
        "            avg_plot_loss = total_plot_loss / visualize_every\n",
        "            loss_plot.append(avg_plot_loss)\n",
        "            total_plot_loss = 0\n",
        "\n",
        "    plotLossGraph(loss_plot)\n",
        "\n",
        "    # After training, generate translations for test sentences\n",
        "    for sentence in test_sentences:\n",
        "        decoded_words, decoder_attention = generateTranslation(encoder_model, decoder_model, sentence, source_language, target_language)\n",
        "        print(f\"Original Sentence: {sentence}\")\n",
        "        print(f\"Translated Sentence: {' '.join(decoded_words)}\")"
      ],
      "metadata": {
        "id": "a_b6fpVLgwXM"
      },
      "execution_count": null,
      "outputs": []
    },
    {
      "cell_type": "markdown",
      "source": [
        "# **EVALUATION**"
      ],
      "metadata": {
        "id": "sDDrjhKxyvqr"
      }
    },
    {
      "cell_type": "markdown",
      "source": [
        "Translation Generation from Sequence-to-Sequence Models\n"
      ],
      "metadata": {
        "id": "-vph8cppyzZ8"
      }
    },
    {
      "cell_type": "code",
      "source": [
        "def generateTranslation(encoder_model, decoder_model, sentence, source_language, target_language):\n",
        "    with torch.no_grad():\n",
        "        input_tensor = tensorFromText(source_language, sentence)\n",
        "\n",
        "        encoder_outputs, encoder_hidden = encoder_model(input_tensor)\n",
        "        decoder_outputs, decoder_hidden, decoder_attention = decoder_model(encoder_outputs, encoder_hidden)\n",
        "\n",
        "        _, top_index = decoder_outputs.topk(1)\n",
        "        decoded_indexes = top_index.squeeze()\n",
        "\n",
        "        decoded_words = []\n",
        "        for idx in decoded_indexes:\n",
        "            if idx.item() == END_TOKEN:\n",
        "                decoded_words.append('<END>')\n",
        "                break\n",
        "            decoded_words.append(target_language.index2token[idx.item()])\n",
        "    return decoded_words, decoder_attention"
      ],
      "metadata": {
        "id": "1o1REjTMgwZ9"
      },
      "execution_count": null,
      "outputs": []
    },
    {
      "cell_type": "markdown",
      "source": [
        "Random Sentence Translation for Model Evaluation"
      ],
      "metadata": {
        "id": "5y1BFoF5y1Rg"
      }
    },
    {
      "cell_type": "code",
      "source": [
        "def generateRandomTranslations(encoder_model, decoder_model, n=10):\n",
        "    for i in range(n):\n",
        "        random_pair = random.choice(sentence_pairs)\n",
        "        print('>', random_pair[0])\n",
        "        print('=', random_pair[1])\n",
        "        output_words, _ = generateTranslation(encoder_model, decoder_model, random_pair[0], source_language, target_language)\n",
        "        output_sentence = ' '.join(output_words)\n",
        "        print('<', output_sentence)\n",
        "        print('')"
      ],
      "metadata": {
        "id": "0mbARXuBgwcT"
      },
      "execution_count": null,
      "outputs": []
    },
    {
      "cell_type": "code",
      "source": [
        "# Set hyperparameters\n",
        "hidden_units = 256\n",
        "batch_size = 64\n",
        "\n",
        "# Prepare data loader\n",
        "source_language, target_language, train_data_loader = createDataLoader(batch_size)\n",
        "\n",
        "# Initialize the encoder and decoder models\n",
        "encoder_model = RNN_Encoder(source_language.total_tokens, hidden_units).to(device)\n",
        "decoder_model = AttentionDecoderRNN(hidden_units, target_language.total_tokens).to(device)\n",
        "\n",
        "\n",
        "# Train the model with simple early stopping and generate translations\n",
        "trainModelWithSimpleEarlyStopping(\n",
        "    train_data_loader,\n",
        "    encoder_model,\n",
        "    decoder_model,\n",
        "    epochs=80,\n",
        "    display_every=5,\n",
        "    visualize_every=5,\n",
        "    patience=5,  # Set the patience for early stopping\n",
        ")\n",
        "#checked for multiple patience values, 5 worked the best for us, reduced the loss more"
      ],
      "metadata": {
        "colab": {
          "base_uri": "https://localhost:8080/",
          "height": 727
        },
        "id": "wpGh46n0gY4A",
        "outputId": "4b2c39c8-8eb6-4870-cdae-7a4cf803b35a"
      },
      "execution_count": null,
      "outputs": [
        {
          "output_type": "stream",
          "name": "stdout",
          "text": [
            "4m 42s (- 70m 32s) (5 6%) 1.0885\n",
            "9m 13s (- 64m 35s) (10 12%) 0.2969\n",
            "13m 38s (- 59m 7s) (15 18%) 0.1040\n",
            "18m 2s (- 54m 7s) (20 25%) 0.0620\n",
            "22m 29s (- 49m 29s) (25 31%) 0.0510\n",
            "27m 4s (- 45m 7s) (30 37%) 0.0462\n",
            "31m 33s (- 40m 34s) (35 43%) 0.0432\n",
            "35m 56s (- 35m 56s) (40 50%) 0.0410\n",
            "40m 23s (- 31m 24s) (45 56%) 0.0398\n",
            "44m 49s (- 26m 53s) (50 62%) 0.0382\n",
            "49m 15s (- 22m 23s) (55 68%) 0.0372\n",
            "53m 41s (- 17m 53s) (60 75%) 0.0366\n",
            "58m 7s (- 13m 24s) (65 81%) 0.0360\n",
            "62m 41s (- 8m 57s) (70 87%) 0.0355\n",
            "67m 10s (- 4m 28s) (75 93%) 0.0341\n",
            "Early stopping triggered.\n",
            "Training stopped early at epoch 78.\n"
          ]
        },
        {
          "output_type": "display_data",
          "data": {
            "text/plain": [
              "<Figure size 1200x600 with 0 Axes>"
            ]
          },
          "metadata": {}
        },
        {
          "output_type": "display_data",
          "data": {
            "text/plain": [
              "<Figure size 1500x500 with 2 Axes>"
            ],
            "image/png": "[encoded data removed]"
          },
          "metadata": {}
        }
      ]
    },
    {
      "cell_type": "code",
      "source": [
        "# Save the models\n",
        "torch.save(encoder_model.state_dict(), \"encoder_model.pth\")\n",
        "torch.save(decoder_model.state_dict(), \"decoder_model.pth\")\n",
        "print(\"Models saved.\")"
      ],
      "metadata": {
        "colab": {
          "base_uri": "https://localhost:8080/"
        },
        "id": "VDs5F3sIhndu",
        "outputId": "42e3d6b0-5acd-4593-c9cc-b8296f37b3f6"
      },
      "execution_count": null,
      "outputs": [
        {
          "output_type": "stream",
          "name": "stdout",
          "text": [
            "Models saved.\n"
          ]
        }
      ]
    },
    {
      "cell_type": "code",
      "source": [
        "import random\n",
        "\n",
        "def generateRandomTranslations(encoder_model, decoder_model, source_language, target_language, sentence_pairs, num_samples=5):\n",
        "    # Pick random sentences from sentence pairs\n",
        "    random_sentences = random.sample(sentence_pairs, num_samples)\n",
        "\n",
        "    for pair in random_sentences:\n",
        "        source_sentence = pair[0]\n",
        "        target_sentence = pair[1]\n",
        "\n",
        "        # Generate translation using the encoder and decoder models\n",
        "        decoded_words, decoder_attention = generateTranslation(encoder_model, decoder_model, source_sentence, source_language, target_language)\n",
        "\n",
        "        print(f\"Original Sentence: {source_sentence}\")\n",
        "        print(f\"Translated Sentence: {' '.join(decoded_words)}\")\n",
        "        print(f\"Target Sentence: {target_sentence}\")\n",
        "        print(\"=\"*50)\n",
        "\n",
        "# Example usage: Generate translations for 5 random sentences\n",
        "generateRandomTranslations(encoder_model, decoder_model, source_language, target_language, sentence_pairs, num_samples=5)"
      ],
      "metadata": {
        "colab": {
          "base_uri": "https://localhost:8080/"
        },
        "id": "fLBYjGGspYXp",
        "outputId": "b7d078aa-03ec-4df9-df50-70bcf711e71f"
      },
      "execution_count": null,
      "outputs": [
        {
          "output_type": "stream",
          "name": "stdout",
          "text": [
            "Original Sentence: tu es tres intelligent\n",
            "Translated Sentence: you re very intelligent <END>\n",
            "Target Sentence: you re very intelligent\n",
            "==================================================\n",
            "Original Sentence: je me melange les pinceaux\n",
            "Translated Sentence: i m confused <END>\n",
            "Target Sentence: i m confused\n",
            "==================================================\n",
            "Original Sentence: je ne suis pas different\n",
            "Translated Sentence: i m no different <END>\n",
            "Target Sentence: i m no different\n",
            "==================================================\n",
            "Original Sentence: je suis un tantinet jalouse\n",
            "Translated Sentence: i m a little bit jealous <END>\n",
            "Target Sentence: i m a little bit jealous\n",
            "==================================================\n",
            "Original Sentence: elles sont sur le point de partir\n",
            "Translated Sentence: they re about to leave <END>\n",
            "Target Sentence: they re about to leave\n",
            "==================================================\n"
          ]
        }
      ]
    },
    {
      "cell_type": "code",
      "source": [
        "import matplotlib.pyplot as plt\n",
        "import seaborn as sns\n",
        "import random\n",
        "import torch\n",
        "import torch.nn.functional as F\n",
        "\n",
        "# Plot Attention Weights Heatmap\n",
        "def plot_attention_weights(input_sentence, decoded_words, attention_weights, input_tokens, output_tokens):\n",
        "    fig, ax = plt.subplots(figsize=(8, 6))\n",
        "    attention_weights = attention_weights.squeeze(0).detach().cpu().numpy()\n",
        "\n",
        "    sns.heatmap(\n",
        "        attention_weights[:len(decoded_words), :len(input_sentence.split())],\n",
        "        xticklabels=input_tokens,\n",
        "        yticklabels=decoded_words,\n",
        "        cmap='Blues',\n",
        "        ax=ax\n",
        "    )\n",
        "\n",
        "    ax.set_title(\"Attention Weights Heatmap\")\n",
        "    ax.set_xlabel(\"Input Sentence Tokens\")\n",
        "    ax.set_ylabel(\"Decoded Output Tokens\")\n",
        "    plt.show()\n",
        "\n",
        "# Generate Translations and Plot Attention\n",
        "def visualize_attention_random_sample(encoder_model, decoder_model, source_language, target_language, sentence_pairs):\n",
        "    # Randomly select a sentence pair\n",
        "    random_pair = random.choice(sentence_pairs)\n",
        "    source_sentence = random_pair[0]\n",
        "    target_sentence = random_pair[1]\n",
        "\n",
        "    # Generate translation and attention weights\n",
        "    decoded_words, decoder_attention = generateTranslation(\n",
        "        encoder_model, decoder_model, source_sentence, source_language, target_language\n",
        "    )\n",
        "\n",
        "    # Prepare tokens for visualization\n",
        "    input_tokens = source_sentence.split()\n",
        "    output_tokens = decoded_words[:-1]  # Exclude <END> token\n",
        "\n",
        "    # Print sentences\n",
        "    print(f\"Source Sentence: {source_sentence}\")\n",
        "    print(f\"Target Sentence: {target_sentence}\")\n",
        "    print(f\"Translated Sentence: {' '.join(decoded_words)}\")\n",
        "\n",
        "    # Plot Attention Weights\n",
        "    plot_attention_weights(source_sentence, output_tokens, decoder_attention, input_tokens, output_tokens)\n",
        "\n",
        "# Visualize attention for a random sentence\n",
        "visualize_attention_random_sample(\n",
        "    encoder_model,\n",
        "    decoder_model,\n",
        "    source_language,\n",
        "    target_language,\n",
        "    sentence_pairs\n",
        ")"
      ],
      "metadata": {
        "colab": {
          "base_uri": "https://localhost:8080/",
          "height": 618
        },
        "id": "omcosuPD-u0W",
        "outputId": "1270a584-6bf4-4f18-da17-45a1735053e8"
      },
      "execution_count": null,
      "outputs": [
        {
          "output_type": "stream",
          "name": "stdout",
          "text": [
            "Source Sentence: elles sont jeunes et en bonne sante\n",
            "Target Sentence: they re young and healthy\n",
            "Translated Sentence: they re young and healthy <END>\n"
          ]
        },
        {
          "output_type": "display_data",
          "data": {
            "text/plain": [
              "<Figure size 800x600 with 2 Axes>"
            ],
            "image/png": "[encoded data removed]"
          },
          "metadata": {}
        }
      ]
    },
    {
      "cell_type": "code",
      "source": [
        "from nltk.translate.bleu_score import sentence_bleu\n",
        "\n",
        "def plot_bleu_scores(encoder_model, decoder_model, sentence_pairs, num_samples=10):\n",
        "    bleu_scores = []\n",
        "    original_sentences = []\n",
        "    translated_sentences = []\n",
        "\n",
        "    for _ in range(num_samples):\n",
        "        random_pair = random.choice(sentence_pairs)\n",
        "        source_sentence = random_pair[0]\n",
        "        target_sentence = random_pair[1]\n",
        "        decoded_words, _ = generateTranslation(encoder_model, decoder_model, source_sentence, source_language, target_language)\n",
        "\n",
        "        bleu_score = sentence_bleu([target_sentence.split()], decoded_words[:-1])  # Exclude <END>\n",
        "        bleu_scores.append(bleu_score)\n",
        "        original_sentences.append(source_sentence)\n",
        "        translated_sentences.append(' '.join(decoded_words[:-1]))\n",
        "\n",
        "    # Plot BLEU scores\n",
        "    plt.figure(figsize=(8, 6))\n",
        "    plt.bar(range(len(bleu_scores)), bleu_scores)\n",
        "    plt.title(\"BLEU Scores for Random Translations\")\n",
        "    plt.xlabel(\"Sample Index\")\n",
        "    plt.ylabel(\"BLEU Score\")\n",
        "    plt.ylim(0, 1)\n",
        "    plt.grid(axis='y')\n",
        "    plt.show()\n",
        "\n",
        "    # Print sentences with BLEU scores\n",
        "    for i, (original, translated, score) in enumerate(zip(original_sentences, translated_sentences, bleu_scores)):\n",
        "        print(f\"Sample {i+1}:\")\n",
        "        print(f\"Original: {original}\")\n",
        "        print(f\"Translated: {translated}\")\n",
        "        print(f\"BLEU Score: {score:.2f}\")\n",
        "        print(\"=\"*50)\n",
        "\n",
        "# Example usage\n",
        "plot_bleu_scores(encoder_model, decoder_model, sentence_pairs, num_samples=5)"
      ],
      "metadata": {
        "colab": {
          "base_uri": "https://localhost:8080/",
          "height": 1000
        },
        "id": "jvKTVIqI_vui",
        "outputId": "0d8e3f46-43f1-42c7-f4f8-d69753c809e4"
      },
      "execution_count": null,
      "outputs": [
        {
          "output_type": "display_data",
          "data": {
            "text/plain": [
              "<Figure size 800x600 with 1 Axes>"
            ],
            "image/png": "[encoded data removed]"
          },
          "metadata": {}
        },
        {
          "output_type": "stream",
          "name": "stdout",
          "text": [
            "Sample 1:\n",
            "Original: je ne suis plus inspiree\n",
            "Translated: i m not inspired anymore\n",
            "BLEU Score: 1.00\n",
            "==================================================\n",
            "Sample 2:\n",
            "Original: je suis en train de dormir\n",
            "Translated: i m sleeping\n",
            "BLEU Score: 0.00\n",
            "==================================================\n",
            "Sample 3:\n",
            "Original: nous sommes enneiges\n",
            "Translated: we re snowed in\n",
            "BLEU Score: 1.00\n",
            "==================================================\n",
            "Sample 4:\n",
            "Original: vous etes completement ignorantes\n",
            "Translated: you re totally ignorant\n",
            "BLEU Score: 1.00\n",
            "==================================================\n",
            "Sample 5:\n",
            "Original: ils sont tous la\n",
            "Translated: they re all here\n",
            "BLEU Score: 1.00\n",
            "==================================================\n"
          ]
        }
      ]
    },
    {
      "cell_type": "code",
      "source": [],
      "metadata": {
        "id": "inIz0WtQBFVq"
      },
      "execution_count": null,
      "outputs": []
    }
  ]
}
